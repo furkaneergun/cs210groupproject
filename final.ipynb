{
 "cells": [
  {
   "cell_type": "code",
   "execution_count": 1,
   "metadata": {},
   "outputs": [],
   "source": [
    "#Blog=https://wordpress.com/view/furkanerguncansavruncs210.wordpress.com\n",
    "import glob\n",
    "from sklearn.linear_model import LinearRegression\n",
    "import pandas as pd\n",
    "import math\n",
    "import numpy as np\n",
    "import seaborn as sns\n",
    "sns.set_style(\"darkgrid\")\n",
    "from scipy import stats\n",
    "import matplotlib.pyplot as plt\n",
    "%matplotlib inline\n",
    "from os.path import join\n",
    "import warnings \n",
    "warnings.simplefilter('ignore')"
   ]
  },
  {
   "cell_type": "code",
   "execution_count": 2,
   "metadata": {},
   "outputs": [],
   "source": [
    "stocks = [f for f in glob.glob(\"Stocks/*.txt\")]\n",
    "#Gold dependent===>\"Stocks/kgc.us.txt\"\n",
    "#Gold independent===>\"Stocks/aamc.us.txt\"\n",
    "dataFrameList=[pd.read_csv(stocks[3])]\n",
    "for i in range(len(dataFrameList)):\n",
    "    dataFrameList[i]=dataFrameList[i].drop(\"OpenInt\",axis=1)\n",
    "    dataFrameList[i][\"Date\"]=pd.to_datetime(dataFrameList[i][\"Date\"])"
   ]
  },
  {
   "cell_type": "code",
   "execution_count": 3,
   "metadata": {},
   "outputs": [],
   "source": [
    "goldDf=pd.read_csv(\"HistoricalQuotes _Gold.csv\")\n",
    "goldDf[\"date\"]=pd.to_datetime(goldDf[\"date\"])\n",
    "goldDf.columns=[\"Date\",\"Close\",\"Volume\",\"Open\",\"High\",\"Low\"]\n",
    "goldDf=goldDf.sort_values(by='Date', ascending=True)\n",
    "goldDf=goldDf[dataFrameList[0].columns.tolist()]\n",
    "goldDf=goldDf.reset_index(drop=True)"
   ]
  },
  {
   "cell_type": "code",
   "execution_count": 4,
   "metadata": {},
   "outputs": [
    {
     "data": {
      "text/html": [
       "<div>\n",
       "<style scoped>\n",
       "    .dataframe tbody tr th:only-of-type {\n",
       "        vertical-align: middle;\n",
       "    }\n",
       "\n",
       "    .dataframe tbody tr th {\n",
       "        vertical-align: top;\n",
       "    }\n",
       "\n",
       "    .dataframe thead th {\n",
       "        text-align: right;\n",
       "    }\n",
       "</style>\n",
       "<table border=\"1\" class=\"dataframe\">\n",
       "  <thead>\n",
       "    <tr style=\"text-align: right;\">\n",
       "      <th></th>\n",
       "      <th>Date</th>\n",
       "      <th>Open</th>\n",
       "      <th>High</th>\n",
       "      <th>Low</th>\n",
       "      <th>Close</th>\n",
       "      <th>Volume</th>\n",
       "    </tr>\n",
       "  </thead>\n",
       "  <tbody>\n",
       "    <tr>\n",
       "      <th>0</th>\n",
       "      <td>2008-12-05</td>\n",
       "      <td>74.30</td>\n",
       "      <td>74.8100</td>\n",
       "      <td>72.91</td>\n",
       "      <td>74.520</td>\n",
       "      <td>13392230.0</td>\n",
       "    </tr>\n",
       "    <tr>\n",
       "      <th>1</th>\n",
       "      <td>2008-12-08</td>\n",
       "      <td>76.48</td>\n",
       "      <td>76.6200</td>\n",
       "      <td>75.40</td>\n",
       "      <td>76.195</td>\n",
       "      <td>7266957.0</td>\n",
       "    </tr>\n",
       "    <tr>\n",
       "      <th>2</th>\n",
       "      <td>2008-12-09</td>\n",
       "      <td>75.56</td>\n",
       "      <td>76.8500</td>\n",
       "      <td>75.30</td>\n",
       "      <td>76.330</td>\n",
       "      <td>9617588.0</td>\n",
       "    </tr>\n",
       "    <tr>\n",
       "      <th>3</th>\n",
       "      <td>2008-12-10</td>\n",
       "      <td>79.20</td>\n",
       "      <td>80.1099</td>\n",
       "      <td>78.56</td>\n",
       "      <td>79.750</td>\n",
       "      <td>16049730.0</td>\n",
       "    </tr>\n",
       "    <tr>\n",
       "      <th>4</th>\n",
       "      <td>2008-12-11</td>\n",
       "      <td>81.58</td>\n",
       "      <td>81.9400</td>\n",
       "      <td>80.49</td>\n",
       "      <td>80.650</td>\n",
       "      <td>13978800.0</td>\n",
       "    </tr>\n",
       "  </tbody>\n",
       "</table>\n",
       "</div>"
      ],
      "text/plain": [
       "        Date   Open     High    Low   Close      Volume\n",
       "0 2008-12-05  74.30  74.8100  72.91  74.520  13392230.0\n",
       "1 2008-12-08  76.48  76.6200  75.40  76.195   7266957.0\n",
       "2 2008-12-09  75.56  76.8500  75.30  76.330   9617588.0\n",
       "3 2008-12-10  79.20  80.1099  78.56  79.750  16049730.0\n",
       "4 2008-12-11  81.58  81.9400  80.49  80.650  13978800.0"
      ]
     },
     "execution_count": 4,
     "metadata": {},
     "output_type": "execute_result"
    }
   ],
   "source": [
    "goldDf.head()"
   ]
  },
  {
   "cell_type": "code",
   "execution_count": 5,
   "metadata": {},
   "outputs": [
    {
     "data": {
      "text/html": [
       "<div>\n",
       "<style scoped>\n",
       "    .dataframe tbody tr th:only-of-type {\n",
       "        vertical-align: middle;\n",
       "    }\n",
       "\n",
       "    .dataframe tbody tr th {\n",
       "        vertical-align: top;\n",
       "    }\n",
       "\n",
       "    .dataframe thead th {\n",
       "        text-align: right;\n",
       "    }\n",
       "</style>\n",
       "<table border=\"1\" class=\"dataframe\">\n",
       "  <thead>\n",
       "    <tr style=\"text-align: right;\">\n",
       "      <th></th>\n",
       "      <th>Date</th>\n",
       "      <th>Open</th>\n",
       "      <th>High</th>\n",
       "      <th>Low</th>\n",
       "      <th>Close</th>\n",
       "      <th>Volume</th>\n",
       "    </tr>\n",
       "  </thead>\n",
       "  <tbody>\n",
       "    <tr>\n",
       "      <th>0</th>\n",
       "      <td>1996-04-12</td>\n",
       "      <td>1.05</td>\n",
       "      <td>1.79</td>\n",
       "      <td>1.02</td>\n",
       "      <td>1.38</td>\n",
       "      <td>408720000</td>\n",
       "    </tr>\n",
       "    <tr>\n",
       "      <th>1</th>\n",
       "      <td>1996-04-15</td>\n",
       "      <td>1.49</td>\n",
       "      <td>1.50</td>\n",
       "      <td>1.25</td>\n",
       "      <td>1.34</td>\n",
       "      <td>79231200</td>\n",
       "    </tr>\n",
       "    <tr>\n",
       "      <th>2</th>\n",
       "      <td>1996-04-16</td>\n",
       "      <td>1.34</td>\n",
       "      <td>1.34</td>\n",
       "      <td>1.17</td>\n",
       "      <td>1.20</td>\n",
       "      <td>48026400</td>\n",
       "    </tr>\n",
       "    <tr>\n",
       "      <th>3</th>\n",
       "      <td>1996-04-17</td>\n",
       "      <td>1.18</td>\n",
       "      <td>1.18</td>\n",
       "      <td>1.03</td>\n",
       "      <td>1.12</td>\n",
       "      <td>42871200</td>\n",
       "    </tr>\n",
       "    <tr>\n",
       "      <th>4</th>\n",
       "      <td>1996-04-18</td>\n",
       "      <td>1.25</td>\n",
       "      <td>1.25</td>\n",
       "      <td>1.17</td>\n",
       "      <td>1.22</td>\n",
       "      <td>27352800</td>\n",
       "    </tr>\n",
       "  </tbody>\n",
       "</table>\n",
       "</div>"
      ],
      "text/plain": [
       "        Date  Open  High   Low  Close     Volume\n",
       "0 1996-04-12  1.05  1.79  1.02   1.38  408720000\n",
       "1 1996-04-15  1.49  1.50  1.25   1.34   79231200\n",
       "2 1996-04-16  1.34  1.34  1.17   1.20   48026400\n",
       "3 1996-04-17  1.18  1.18  1.03   1.12   42871200\n",
       "4 1996-04-18  1.25  1.25  1.17   1.22   27352800"
      ]
     },
     "execution_count": 5,
     "metadata": {},
     "output_type": "execute_result"
    }
   ],
   "source": [
    "dataFrameList[0].head()"
   ]
  },
  {
   "cell_type": "code",
   "execution_count": 6,
   "metadata": {},
   "outputs": [
    {
     "name": "stdout",
     "output_type": "stream",
     "text": [
      "The shape of gold data is:\n",
      " (2517, 6)\n",
      "The shape of first stock data is:\n",
      " (5434, 6)\n",
      "\n",
      "\n",
      "The type of gold data is:\n",
      " Date      datetime64[ns]\n",
      "Open             float64\n",
      "High             float64\n",
      "Low              float64\n",
      "Close            float64\n",
      "Volume           float64\n",
      "dtype: object\n",
      "The type of first stock data is:\n",
      " Date      datetime64[ns]\n",
      "Open             float64\n",
      "High             float64\n",
      "Low              float64\n",
      "Close            float64\n",
      "Volume             int64\n",
      "dtype: object\n",
      "\n",
      "\n",
      "The description of gold data is:\n",
      "               Open         High          Low        Close        Volume\n",
      "count  2517.000000  2517.000000  2517.000000  2517.000000  2.517000e+03\n",
      "mean    125.642665   126.242401   124.998518   125.640659  1.091762e+07\n",
      "std      20.793875    20.882181    20.647774    20.785876  7.381535e+06\n",
      "min      74.300000    74.810000    72.910000    74.520000  1.501552e+06\n",
      "25%     113.960000   114.520000   113.550000   114.000000  6.272122e+06\n",
      "50%     121.360000   121.880000   120.780000   121.310000  9.031303e+06\n",
      "75%     133.680000   134.400000   132.860000   133.740000  1.324024e+07\n",
      "max     184.580000   185.850000   182.100000   184.590000  9.369469e+07\n",
      "\n",
      "\n",
      "The description of first stock data is:\n",
      "               Open         High          Low        Close        Volume\n",
      "count  5434.000000  5434.000000  5434.000000  5434.000000  5.434000e+03\n",
      "mean     25.401708    25.862379    24.925755    25.388213  2.321796e+07\n",
      "std      17.241659    17.642258    16.848659    17.235488  2.127747e+07\n",
      "min       0.660000     0.680000     0.650000     0.660000  0.000000e+00\n",
      "25%      13.712500    13.990000    13.475000    13.690000  1.276903e+07\n",
      "50%      23.375000    23.725000    23.000000    23.440000  1.830949e+07\n",
      "75%      35.497500    36.072500    34.850000    35.470000  2.676091e+07\n",
      "max     116.120000   125.030000   110.500000   118.750000  4.377436e+08\n"
     ]
    }
   ],
   "source": [
    "print(\"The shape of gold data is:\\n\", goldDf.shape)\n",
    "print(\"The shape of first stock data is:\\n\", dataFrameList[0].shape)\n",
    "print()\n",
    "print()\n",
    "print(\"The type of gold data is:\\n\", goldDf.dtypes)\n",
    "print(\"The type of first stock data is:\\n\", dataFrameList[0].dtypes)\n",
    "print()\n",
    "print()\n",
    "print(\"The description of gold data is:\\n\", goldDf.describe())\n",
    "print()\n",
    "print()\n",
    "print(\"The description of first stock data is:\\n\", dataFrameList[0].describe())"
   ]
  },
  {
   "cell_type": "markdown",
   "metadata": {},
   "source": [
    "# Does stock value of \"a\" increases with gold price\n",
    "## Null hypothesis: Gold price is not relevant with stock price of the company"
   ]
  },
  {
   "cell_type": "code",
   "execution_count": 7,
   "metadata": {},
   "outputs": [
    {
     "name": "stdout",
     "output_type": "stream",
     "text": [
      "2517\n",
      "5434\n"
     ]
    }
   ],
   "source": [
    "## Since the date interval of gold price is limited, stock value of company will be evaluated basis on the given date\n",
    "def limitDates(firstDf, referenceDf):\n",
    "    lastDate=referenceDf[\"Date\"][0]\n",
    "    firstDate=referenceDf[\"Date\"][len(referenceDf)-1]\n",
    "    if(firstDate>lastDate):\n",
    "        firstDate, lastDate=lastDate, firstDate\n",
    "    toBeReturn=firstDf[firstDf[\"Date\"] >= firstDate]\n",
    "    toBeReturn=toBeReturn[toBeReturn[\"Date\"]<=lastDate]\n",
    "    return toBeReturn\n",
    "\n",
    "print(len(goldDf))\n",
    "print(len(dataFrameList[0]))"
   ]
  },
  {
   "cell_type": "code",
   "execution_count": 8,
   "metadata": {},
   "outputs": [],
   "source": [
    "for i in range(len(dataFrameList)):\n",
    "    dataFrameList[i]=limitDates(dataFrameList[i],goldDf)\n",
    "    dataFrameList[i]=dataFrameList[i].reset_index(drop=True)\n",
    "\n",
    "goldDf=goldDf.reset_index(drop=True)\n",
    "goldDf=limitDates(goldDf,dataFrameList[0])\n"
   ]
  },
  {
   "cell_type": "markdown",
   "metadata": {},
   "source": []
  },
  {
   "cell_type": "code",
   "execution_count": 9,
   "metadata": {},
   "outputs": [
    {
     "data": {
      "image/png": "[encoded data removed]",
      "text/plain": [
       "<Figure size 1008x432 with 3 Axes>"
      ]
     },
     "metadata": {
      "needs_background": "light"
     },
     "output_type": "display_data"
    },
    {
     "name": "stdout",
     "output_type": "stream",
     "text": [
      "The pValue of Open price of both gold and company stock is:  0.0\n",
      "The correlation coefficient of Open price of both gold and company stock is:  -0.255952910901108\n"
     ]
    }
   ],
   "source": [
    "fig, ax = plt.subplots(1, 3, figsize=(14,6)) \n",
    "dataFrameList[0].plot(x=\"Date\",y=\"Open\",ax=ax[0],color=\"c\",label=\"Value of company\")\n",
    "goldDf.plot(x=\"Date\",y=\"Open\",ax=ax[1],color=\"c\",label=\"Value of gold\")\n",
    "sns.kdeplot(dataFrameList[0][\"Open\"],shade=True, label=\"Company\", ax=ax[2], color=\"c\")\n",
    "sns.kdeplot(goldDf[\"Open\"], shade=True, label=\"Gold\", ax=ax[2], color=\"m\")\n",
    "ax[2].set_title(\"Comparison\")\n",
    "\n",
    "plt.suptitle(\"Opening Prices\")\n",
    "plt.show()\n",
    "\n",
    "print(\"The pValue of Open price of both gold and company stock is: \", stats.ttest_ind(dataFrameList[0][\"Open\"], goldDf[\"Open\"])[1])\n",
    "print(\"The correlation coefficient of Open price of both gold and company stock is: \", goldDf['Open'].corr(dataFrameList[0]['Open']))\n",
    "# –0.50. A moderate downhill (negative) relationship"
   ]
  },
  {
   "cell_type": "code",
   "execution_count": 10,
   "metadata": {
    "scrolled": false
   },
   "outputs": [
    {
     "name": "stdout",
     "output_type": "stream",
     "text": [
      "Company Open Price vs Gold Open Price\n"
     ]
    },
    {
     "data": {
      "image/png": "[encoded data removed]",
      "text/plain": [
       "<Figure size 432x432 with 3 Axes>"
      ]
     },
     "metadata": {
      "needs_background": "light"
     },
     "output_type": "display_data"
    },
    {
     "data": {
      "image/png": "[encoded data removed]",
      "text/plain": [
       "<Figure size 432x432 with 3 Axes>"
      ]
     },
     "metadata": {
      "needs_background": "light"
     },
     "output_type": "display_data"
    }
   ],
   "source": [
    "goldDf.columns=[\"Date\",\"GoldOpen\",\"GoldHigh\",\"GoldLow\",\"GoldClose\",\"GoldVolume\"]\n",
    "joinedDf=pd.merge(goldDf, dataFrameList[0], on='Date', how='inner')\n",
    "\n",
    "def getValue(time):\n",
    "    return time.value\n",
    "joinedDf[\"TimeValue\"]=joinedDf[\"Date\"].apply(getValue)\n",
    "\n",
    "\n",
    "print(\"Company Open Price vs Gold Open Price\")\n",
    "graph=sns.jointplot(x=joinedDf.GoldOpen, y=joinedDf.Open, kind=\"reg\",color='green')\n",
    "graph=sns.jointplot(x=joinedDf.GoldOpen, y=joinedDf.Open, kind=\"hex\",color='coral')\n"
   ]
  },
  {
   "cell_type": "code",
   "execution_count": 11,
   "metadata": {},
   "outputs": [],
   "source": [
    "from sklearn.model_selection import train_test_split\n",
    "lr=LinearRegression()\n",
    "\n",
    "X=joinedDf[[\"GoldOpen\",\"GoldHigh\",\"GoldLow\",\"GoldClose\",\"GoldVolume\"]]\n",
    "y=joinedDf[[\"Open\"]]\n",
    "\n",
    "\n",
    "X_train, X_test, y_train, y_test = train_test_split(X, y, test_size=0.1, random_state=1)"
   ]
  },
  {
   "cell_type": "code",
   "execution_count": 12,
   "metadata": {},
   "outputs": [
    {
     "data": {
      "text/plain": [
       "LinearRegression(copy_X=True, fit_intercept=True, n_jobs=None,\n",
       "         normalize=False)"
      ]
     },
     "execution_count": 12,
     "metadata": {},
     "output_type": "execute_result"
    }
   ],
   "source": [
    "lr.fit(X_train, y_train)\n",
    "#lr.coef_"
   ]
  },
  {
   "cell_type": "markdown",
   "metadata": {},
   "source": [
    "## Company Open Price=a1*GoldOpen+a2*GoldHigh+a3*GoldLow+a4*GoldClose+a5*GoldVolume+a6 which are"
   ]
  },
  {
   "cell_type": "code",
   "execution_count": 13,
   "metadata": {},
   "outputs": [
    {
     "name": "stdout",
     "output_type": "stream",
     "text": [
      "The coefficient for GoldOpen is 0.1158089104228153\n",
      "The coefficient for GoldHigh is 0.8497577885436631\n",
      "The coefficient for GoldLow is 0.8919184682791212\n",
      "The coefficient for GoldClose is -1.9931229334312004\n",
      "The coefficient for GoldVolume is -7.391138503421441e-07\n",
      "a6 is:  53.99068847553944\n"
     ]
    }
   ],
   "source": [
    "for index, col_name in enumerate(X_train.columns):\n",
    "    print(\"The coefficient for {} is {}\".format(col_name, lr.coef_[0][index]))\n",
    "print(\"a6 is: \",lr.intercept_[0])"
   ]
  },
  {
   "cell_type": "code",
   "execution_count": 14,
   "metadata": {},
   "outputs": [
    {
     "name": "stdout",
     "output_type": "stream",
     "text": [
      "The Score is:  0.2606188146118471\n"
     ]
    }
   ],
   "source": [
    "print(\"The Score is: \",lr.score(X_test, y_test))"
   ]
  },
  {
   "cell_type": "code",
   "execution_count": 15,
   "metadata": {},
   "outputs": [
    {
     "name": "stdout",
     "output_type": "stream",
     "text": [
      "The mean squared error is:  139.697009653121\n"
     ]
    }
   ],
   "source": [
    "from sklearn.metrics import mean_squared_error\n",
    "\n",
    "y_predict = lr.predict(X_test)\n",
    "\n",
    "lr_mse = mean_squared_error(y_predict, y_test)\n",
    "\n",
    "print(\"The mean squared error is: \",lr_mse)"
   ]
  },
  {
   "cell_type": "code",
   "execution_count": 16,
   "metadata": {},
   "outputs": [],
   "source": [
    "df=dataFrameList[0]"
   ]
  },
  {
   "cell_type": "code",
   "execution_count": null,
   "metadata": {},
   "outputs": [],
   "source": []
  },
  {
   "cell_type": "markdown",
   "metadata": {},
   "source": [
    "## Preprocessing for machine learning"
   ]
  },
  {
   "cell_type": "code",
   "execution_count": 17,
   "metadata": {},
   "outputs": [],
   "source": [
    "joinedDf=joinedDf.drop(\"TimeValue\",axis=1)"
   ]
  },
  {
   "cell_type": "code",
   "execution_count": 18,
   "metadata": {},
   "outputs": [],
   "source": [
    "joinedDf[\"GoldIncrease\"]=joinedDf[\"GoldClose\"]-joinedDf[\"GoldOpen\"]\n",
    "joinedDf[\"CompanyIncrease\"]=joinedDf[\"Close\"]-joinedDf[\"Open\"]"
   ]
  },
  {
   "cell_type": "code",
   "execution_count": 19,
   "metadata": {},
   "outputs": [],
   "source": [
    "def getPercent(df):\n",
    "    return df[1]*100/df[0]"
   ]
  },
  {
   "cell_type": "code",
   "execution_count": 20,
   "metadata": {},
   "outputs": [
    {
     "data": {
      "text/html": [
       "<div>\n",
       "<style scoped>\n",
       "    .dataframe tbody tr th:only-of-type {\n",
       "        vertical-align: middle;\n",
       "    }\n",
       "\n",
       "    .dataframe tbody tr th {\n",
       "        vertical-align: top;\n",
       "    }\n",
       "\n",
       "    .dataframe thead th {\n",
       "        text-align: right;\n",
       "    }\n",
       "</style>\n",
       "<table border=\"1\" class=\"dataframe\">\n",
       "  <thead>\n",
       "    <tr style=\"text-align: right;\">\n",
       "      <th></th>\n",
       "      <th>Date</th>\n",
       "      <th>GoldOpen</th>\n",
       "      <th>GoldHigh</th>\n",
       "      <th>GoldLow</th>\n",
       "      <th>GoldClose</th>\n",
       "      <th>GoldVolume</th>\n",
       "      <th>Open</th>\n",
       "      <th>High</th>\n",
       "      <th>Low</th>\n",
       "      <th>Close</th>\n",
       "      <th>Volume</th>\n",
       "      <th>GoldIncrease</th>\n",
       "      <th>CompanyIncrease</th>\n",
       "    </tr>\n",
       "  </thead>\n",
       "  <tbody>\n",
       "    <tr>\n",
       "      <th>0</th>\n",
       "      <td>2008-12-05</td>\n",
       "      <td>74.30</td>\n",
       "      <td>74.8100</td>\n",
       "      <td>72.91</td>\n",
       "      <td>74.520</td>\n",
       "      <td>13392230.0</td>\n",
       "      <td>10.90</td>\n",
       "      <td>11.70</td>\n",
       "      <td>10.62</td>\n",
       "      <td>11.66</td>\n",
       "      <td>19853690</td>\n",
       "      <td>0.220</td>\n",
       "      <td>0.76</td>\n",
       "    </tr>\n",
       "    <tr>\n",
       "      <th>1</th>\n",
       "      <td>2008-12-08</td>\n",
       "      <td>76.48</td>\n",
       "      <td>76.6200</td>\n",
       "      <td>75.40</td>\n",
       "      <td>76.195</td>\n",
       "      <td>7266957.0</td>\n",
       "      <td>12.17</td>\n",
       "      <td>12.49</td>\n",
       "      <td>11.79</td>\n",
       "      <td>12.20</td>\n",
       "      <td>33027646</td>\n",
       "      <td>-0.285</td>\n",
       "      <td>0.03</td>\n",
       "    </tr>\n",
       "    <tr>\n",
       "      <th>2</th>\n",
       "      <td>2008-12-09</td>\n",
       "      <td>75.56</td>\n",
       "      <td>76.8500</td>\n",
       "      <td>75.30</td>\n",
       "      <td>76.330</td>\n",
       "      <td>9617588.0</td>\n",
       "      <td>11.99</td>\n",
       "      <td>12.54</td>\n",
       "      <td>11.77</td>\n",
       "      <td>12.19</td>\n",
       "      <td>28943158</td>\n",
       "      <td>0.770</td>\n",
       "      <td>0.20</td>\n",
       "    </tr>\n",
       "    <tr>\n",
       "      <th>3</th>\n",
       "      <td>2008-12-10</td>\n",
       "      <td>79.20</td>\n",
       "      <td>80.1099</td>\n",
       "      <td>78.56</td>\n",
       "      <td>79.750</td>\n",
       "      <td>16049730.0</td>\n",
       "      <td>12.69</td>\n",
       "      <td>13.57</td>\n",
       "      <td>12.35</td>\n",
       "      <td>13.40</td>\n",
       "      <td>46674720</td>\n",
       "      <td>0.550</td>\n",
       "      <td>0.71</td>\n",
       "    </tr>\n",
       "    <tr>\n",
       "      <th>4</th>\n",
       "      <td>2008-12-11</td>\n",
       "      <td>81.58</td>\n",
       "      <td>81.9400</td>\n",
       "      <td>80.49</td>\n",
       "      <td>80.650</td>\n",
       "      <td>13978800.0</td>\n",
       "      <td>13.28</td>\n",
       "      <td>13.36</td>\n",
       "      <td>12.57</td>\n",
       "      <td>12.73</td>\n",
       "      <td>26527148</td>\n",
       "      <td>-0.930</td>\n",
       "      <td>-0.55</td>\n",
       "    </tr>\n",
       "  </tbody>\n",
       "</table>\n",
       "</div>"
      ],
      "text/plain": [
       "        Date  GoldOpen  GoldHigh  GoldLow  GoldClose  GoldVolume   Open  \\\n",
       "0 2008-12-05     74.30   74.8100    72.91     74.520  13392230.0  10.90   \n",
       "1 2008-12-08     76.48   76.6200    75.40     76.195   7266957.0  12.17   \n",
       "2 2008-12-09     75.56   76.8500    75.30     76.330   9617588.0  11.99   \n",
       "3 2008-12-10     79.20   80.1099    78.56     79.750  16049730.0  12.69   \n",
       "4 2008-12-11     81.58   81.9400    80.49     80.650  13978800.0  13.28   \n",
       "\n",
       "    High    Low  Close    Volume  GoldIncrease  CompanyIncrease  \n",
       "0  11.70  10.62  11.66  19853690         0.220             0.76  \n",
       "1  12.49  11.79  12.20  33027646        -0.285             0.03  \n",
       "2  12.54  11.77  12.19  28943158         0.770             0.20  \n",
       "3  13.57  12.35  13.40  46674720         0.550             0.71  \n",
       "4  13.36  12.57  12.73  26527148        -0.930            -0.55  "
      ]
     },
     "execution_count": 20,
     "metadata": {},
     "output_type": "execute_result"
    }
   ],
   "source": [
    "joinedDf.head()"
   ]
  },
  {
   "cell_type": "code",
   "execution_count": 21,
   "metadata": {},
   "outputs": [],
   "source": [
    "joinedDf['GoldIncreaseRate'] = joinedDf[[\"GoldOpen\",\"GoldIncrease\"]].apply(getPercent,axis=1)\n",
    "joinedDf['CompanyIncreaseRate'] = joinedDf[[\"Open\", \"CompanyIncrease\"]].apply(getPercent, axis=1)"
   ]
  },
  {
   "cell_type": "code",
   "execution_count": 22,
   "metadata": {},
   "outputs": [],
   "source": [
    "joinedDf=joinedDf[[\"Date\",\"GoldIncrease\",\"CompanyIncrease\",\"GoldIncreaseRate\",\"CompanyIncreaseRate\"]]\n",
    "joinedDf[\"GoldIncreaseorDecrease\"] = 0 #5\n",
    "#X=joinedDf[[\"GoldIncreaseBetween0and0.25\",\"GoldIncreaseBetween0.25and0.5\",\"GoldIncreaseBetween0.5and1\",\"GoldIncreaseMoreThan1\",\"GoldDecreaseBetween0and0.25\",\"GoldDecreaseBetween0.25and0.5\",\"GoldDecreaseBetween0.5and1\",\"GoldDecreaseMoreThan1\"]] \n",
    "joinedDf[\"CompanyIncreaseorDecrease\"] = 0 # 13\n"
   ]
  },
  {
   "cell_type": "code",
   "execution_count": 23,
   "metadata": {},
   "outputs": [
    {
     "data": {
      "text/html": [
       "<div>\n",
       "<style scoped>\n",
       "    .dataframe tbody tr th:only-of-type {\n",
       "        vertical-align: middle;\n",
       "    }\n",
       "\n",
       "    .dataframe tbody tr th {\n",
       "        vertical-align: top;\n",
       "    }\n",
       "\n",
       "    .dataframe thead th {\n",
       "        text-align: right;\n",
       "    }\n",
       "</style>\n",
       "<table border=\"1\" class=\"dataframe\">\n",
       "  <thead>\n",
       "    <tr style=\"text-align: right;\">\n",
       "      <th></th>\n",
       "      <th>Date</th>\n",
       "      <th>GoldIncrease</th>\n",
       "      <th>CompanyIncrease</th>\n",
       "      <th>GoldIncreaseRate</th>\n",
       "      <th>CompanyIncreaseRate</th>\n",
       "      <th>GoldIncreaseorDecrease</th>\n",
       "      <th>CompanyIncreaseorDecrease</th>\n",
       "    </tr>\n",
       "  </thead>\n",
       "  <tbody>\n",
       "    <tr>\n",
       "      <th>0</th>\n",
       "      <td>2008-12-05</td>\n",
       "      <td>0.220</td>\n",
       "      <td>0.76</td>\n",
       "      <td>0.296097</td>\n",
       "      <td>6.972477</td>\n",
       "      <td>0</td>\n",
       "      <td>0</td>\n",
       "    </tr>\n",
       "    <tr>\n",
       "      <th>1</th>\n",
       "      <td>2008-12-08</td>\n",
       "      <td>-0.285</td>\n",
       "      <td>0.03</td>\n",
       "      <td>-0.372646</td>\n",
       "      <td>0.246508</td>\n",
       "      <td>0</td>\n",
       "      <td>0</td>\n",
       "    </tr>\n",
       "    <tr>\n",
       "      <th>2</th>\n",
       "      <td>2008-12-09</td>\n",
       "      <td>0.770</td>\n",
       "      <td>0.20</td>\n",
       "      <td>1.019058</td>\n",
       "      <td>1.668057</td>\n",
       "      <td>0</td>\n",
       "      <td>0</td>\n",
       "    </tr>\n",
       "    <tr>\n",
       "      <th>3</th>\n",
       "      <td>2008-12-10</td>\n",
       "      <td>0.550</td>\n",
       "      <td>0.71</td>\n",
       "      <td>0.694444</td>\n",
       "      <td>5.594957</td>\n",
       "      <td>0</td>\n",
       "      <td>0</td>\n",
       "    </tr>\n",
       "    <tr>\n",
       "      <th>4</th>\n",
       "      <td>2008-12-11</td>\n",
       "      <td>-0.930</td>\n",
       "      <td>-0.55</td>\n",
       "      <td>-1.139985</td>\n",
       "      <td>-4.141566</td>\n",
       "      <td>0</td>\n",
       "      <td>0</td>\n",
       "    </tr>\n",
       "  </tbody>\n",
       "</table>\n",
       "</div>"
      ],
      "text/plain": [
       "        Date  GoldIncrease  CompanyIncrease  GoldIncreaseRate  \\\n",
       "0 2008-12-05         0.220             0.76          0.296097   \n",
       "1 2008-12-08        -0.285             0.03         -0.372646   \n",
       "2 2008-12-09         0.770             0.20          1.019058   \n",
       "3 2008-12-10         0.550             0.71          0.694444   \n",
       "4 2008-12-11        -0.930            -0.55         -1.139985   \n",
       "\n",
       "   CompanyIncreaseRate  GoldIncreaseorDecrease  CompanyIncreaseorDecrease  \n",
       "0             6.972477                       0                          0  \n",
       "1             0.246508                       0                          0  \n",
       "2             1.668057                       0                          0  \n",
       "3             5.594957                       0                          0  \n",
       "4            -4.141566                       0                          0  "
      ]
     },
     "execution_count": 23,
     "metadata": {},
     "output_type": "execute_result"
    }
   ],
   "source": [
    "joinedDf.head()"
   ]
  },
  {
   "cell_type": "code",
   "execution_count": null,
   "metadata": {},
   "outputs": [],
   "source": [
    " "
   ]
  },
  {
   "cell_type": "code",
   "execution_count": 24,
   "metadata": {},
   "outputs": [],
   "source": [
    "def getIncreaseDecrease(df):\n",
    "    GoldIncrease=df[3]\n",
    "    CompanyIncrease=df[4]\n",
    "    x=0\n",
    "    y=0\n",
    "    if(0<GoldIncrease):\n",
    "        df[5]=0\n",
    "    else:\n",
    "        df[5]=1\n",
    "    \n",
    "    #elif(0.25<GoldIncrease<0.5):\n",
    "    #    df[5]=1\n",
    "    #elif(0.5<GoldIncrease<1):\n",
    "    #    df[5]=2\n",
    "    #elif(GoldIncrease>1):\n",
    "    #    df[5]=3\n",
    "    #elif(-0.25<GoldIncrease<0):\n",
    "    #    df[5]=4\n",
    "    #elif(-0.5<GoldIncrease<-0.25):\n",
    "    #    df[5]=5\n",
    "    #elif(-1<GoldIncrease<-0.5):\n",
    "    #    df[5]=6\n",
    "    #elif(GoldIncrease<-1):\n",
    "    #    df[5]=7\n",
    "    \n",
    "    if(0<CompanyIncrease):\n",
    "        df[6]=0\n",
    "    else:\n",
    "        df[6]=1\n",
    "    #elif(1<CompanyIncrease<2):\n",
    "    #    df[6]=1\n",
    "    #elif(2<CompanyIncrease<4):\n",
    "    #    df[6]=2\n",
    "    #elif(4<CompanyIncrease<6):\n",
    "    #    df[6]=3\n",
    "    #elif(6<CompanyIncrease):\n",
    "    #    df[6]=4\n",
    "    #elif(-1<CompanyIncrease<0):\n",
    "    #    df[6]=5\n",
    "    #elif(-2<CompanyIncrease<-1):\n",
    "    #    df[6]=6\n",
    "    #elif(-4<CompanyIncrease<-2):\n",
    "    #    df[6]=7\n",
    "    #elif(-6<CompanyIncrease<-4):\n",
    "    #    df[6]=8\n",
    "    #elif(CompanyIncrease<-6):\n",
    "    #    df[6]=9\n",
    "    \n",
    "    return df\n",
    "    "
   ]
  },
  {
   "cell_type": "code",
   "execution_count": 25,
   "metadata": {},
   "outputs": [],
   "source": [
    "joinedDf=joinedDf.apply(getIncreaseDecrease,axis=1,result_type=\"broadcast\")"
   ]
  },
  {
   "cell_type": "code",
   "execution_count": 26,
   "metadata": {},
   "outputs": [
    {
     "data": {
      "text/html": [
       "<div>\n",
       "<style scoped>\n",
       "    .dataframe tbody tr th:only-of-type {\n",
       "        vertical-align: middle;\n",
       "    }\n",
       "\n",
       "    .dataframe tbody tr th {\n",
       "        vertical-align: top;\n",
       "    }\n",
       "\n",
       "    .dataframe thead th {\n",
       "        text-align: right;\n",
       "    }\n",
       "</style>\n",
       "<table border=\"1\" class=\"dataframe\">\n",
       "  <thead>\n",
       "    <tr style=\"text-align: right;\">\n",
       "      <th></th>\n",
       "      <th>Date</th>\n",
       "      <th>GoldIncrease</th>\n",
       "      <th>CompanyIncrease</th>\n",
       "      <th>GoldIncreaseRate</th>\n",
       "      <th>CompanyIncreaseRate</th>\n",
       "      <th>GoldIncreaseorDecrease</th>\n",
       "      <th>CompanyIncreaseorDecrease</th>\n",
       "    </tr>\n",
       "  </thead>\n",
       "  <tbody>\n",
       "    <tr>\n",
       "      <th>0</th>\n",
       "      <td>2008-12-05 00:00:00</td>\n",
       "      <td>0.22</td>\n",
       "      <td>0.76</td>\n",
       "      <td>0.296097</td>\n",
       "      <td>6.97248</td>\n",
       "      <td>0</td>\n",
       "      <td>0</td>\n",
       "    </tr>\n",
       "    <tr>\n",
       "      <th>1</th>\n",
       "      <td>2008-12-08 00:00:00</td>\n",
       "      <td>-0.285</td>\n",
       "      <td>0.03</td>\n",
       "      <td>-0.372646</td>\n",
       "      <td>0.246508</td>\n",
       "      <td>1</td>\n",
       "      <td>0</td>\n",
       "    </tr>\n",
       "    <tr>\n",
       "      <th>2</th>\n",
       "      <td>2008-12-09 00:00:00</td>\n",
       "      <td>0.77</td>\n",
       "      <td>0.2</td>\n",
       "      <td>1.01906</td>\n",
       "      <td>1.66806</td>\n",
       "      <td>0</td>\n",
       "      <td>0</td>\n",
       "    </tr>\n",
       "    <tr>\n",
       "      <th>3</th>\n",
       "      <td>2008-12-10 00:00:00</td>\n",
       "      <td>0.55</td>\n",
       "      <td>0.71</td>\n",
       "      <td>0.694444</td>\n",
       "      <td>5.59496</td>\n",
       "      <td>0</td>\n",
       "      <td>0</td>\n",
       "    </tr>\n",
       "    <tr>\n",
       "      <th>4</th>\n",
       "      <td>2008-12-11 00:00:00</td>\n",
       "      <td>-0.93</td>\n",
       "      <td>-0.55</td>\n",
       "      <td>-1.13999</td>\n",
       "      <td>-4.14157</td>\n",
       "      <td>1</td>\n",
       "      <td>1</td>\n",
       "    </tr>\n",
       "  </tbody>\n",
       "</table>\n",
       "</div>"
      ],
      "text/plain": [
       "                  Date GoldIncrease CompanyIncrease GoldIncreaseRate  \\\n",
       "0  2008-12-05 00:00:00         0.22            0.76         0.296097   \n",
       "1  2008-12-08 00:00:00       -0.285            0.03        -0.372646   \n",
       "2  2008-12-09 00:00:00         0.77             0.2          1.01906   \n",
       "3  2008-12-10 00:00:00         0.55            0.71         0.694444   \n",
       "4  2008-12-11 00:00:00        -0.93           -0.55         -1.13999   \n",
       "\n",
       "  CompanyIncreaseRate GoldIncreaseorDecrease CompanyIncreaseorDecrease  \n",
       "0             6.97248                      0                         0  \n",
       "1            0.246508                      1                         0  \n",
       "2             1.66806                      0                         0  \n",
       "3             5.59496                      0                         0  \n",
       "4            -4.14157                      1                         1  "
      ]
     },
     "execution_count": 26,
     "metadata": {},
     "output_type": "execute_result"
    }
   ],
   "source": [
    "joinedDf.head()"
   ]
  },
  {
   "cell_type": "code",
   "execution_count": 27,
   "metadata": {},
   "outputs": [
    {
     "data": {
      "text/html": [
       "<div>\n",
       "<style scoped>\n",
       "    .dataframe tbody tr th:only-of-type {\n",
       "        vertical-align: middle;\n",
       "    }\n",
       "\n",
       "    .dataframe tbody tr th {\n",
       "        vertical-align: top;\n",
       "    }\n",
       "\n",
       "    .dataframe thead th {\n",
       "        text-align: right;\n",
       "    }\n",
       "</style>\n",
       "<table border=\"1\" class=\"dataframe\">\n",
       "  <thead>\n",
       "    <tr style=\"text-align: right;\">\n",
       "      <th></th>\n",
       "      <th>Date</th>\n",
       "      <th>GoldIncrease</th>\n",
       "      <th>CompanyIncrease</th>\n",
       "      <th>GoldIncreaseRate</th>\n",
       "      <th>CompanyIncreaseRate</th>\n",
       "      <th>GoldIncreaseorDecrease</th>\n",
       "      <th>CompanyIncreaseorDecrease</th>\n",
       "    </tr>\n",
       "  </thead>\n",
       "  <tbody>\n",
       "    <tr>\n",
       "      <th>2245</th>\n",
       "      <td>2017-11-06 00:00:00</td>\n",
       "      <td>0.93</td>\n",
       "      <td>1.44</td>\n",
       "      <td>0.770378</td>\n",
       "      <td>2.04924</td>\n",
       "      <td>0</td>\n",
       "      <td>0</td>\n",
       "    </tr>\n",
       "    <tr>\n",
       "      <th>2246</th>\n",
       "      <td>2017-11-07 00:00:00</td>\n",
       "      <td>-0.3</td>\n",
       "      <td>0.02</td>\n",
       "      <td>-0.246893</td>\n",
       "      <td>0.0277008</td>\n",
       "      <td>1</td>\n",
       "      <td>0</td>\n",
       "    </tr>\n",
       "    <tr>\n",
       "      <th>2247</th>\n",
       "      <td>2017-11-08 00:00:00</td>\n",
       "      <td>-0.32</td>\n",
       "      <td>-0.84</td>\n",
       "      <td>-0.262403</td>\n",
       "      <td>-1.16667</td>\n",
       "      <td>1</td>\n",
       "      <td>1</td>\n",
       "    </tr>\n",
       "    <tr>\n",
       "      <th>2248</th>\n",
       "      <td>2017-11-09 00:00:00</td>\n",
       "      <td>0.28</td>\n",
       "      <td>-0.27</td>\n",
       "      <td>0.229791</td>\n",
       "      <td>-0.383196</td>\n",
       "      <td>0</td>\n",
       "      <td>1</td>\n",
       "    </tr>\n",
       "    <tr>\n",
       "      <th>2249</th>\n",
       "      <td>2017-11-10 00:00:00</td>\n",
       "      <td>-0.86</td>\n",
       "      <td>-0.04</td>\n",
       "      <td>-0.704976</td>\n",
       "      <td>-0.0566572</td>\n",
       "      <td>1</td>\n",
       "      <td>1</td>\n",
       "    </tr>\n",
       "  </tbody>\n",
       "</table>\n",
       "</div>"
      ],
      "text/plain": [
       "                     Date GoldIncrease CompanyIncrease GoldIncreaseRate  \\\n",
       "2245  2017-11-06 00:00:00         0.93            1.44         0.770378   \n",
       "2246  2017-11-07 00:00:00         -0.3            0.02        -0.246893   \n",
       "2247  2017-11-08 00:00:00        -0.32           -0.84        -0.262403   \n",
       "2248  2017-11-09 00:00:00         0.28           -0.27         0.229791   \n",
       "2249  2017-11-10 00:00:00        -0.86           -0.04        -0.704976   \n",
       "\n",
       "     CompanyIncreaseRate GoldIncreaseorDecrease CompanyIncreaseorDecrease  \n",
       "2245             2.04924                      0                         0  \n",
       "2246           0.0277008                      1                         0  \n",
       "2247            -1.16667                      1                         1  \n",
       "2248           -0.383196                      0                         1  \n",
       "2249          -0.0566572                      1                         1  "
      ]
     },
     "execution_count": 27,
     "metadata": {},
     "output_type": "execute_result"
    }
   ],
   "source": [
    "joinedDf.tail()"
   ]
  },
  {
   "cell_type": "markdown",
   "metadata": {},
   "source": [
    "## K neighbours"
   ]
  },
  {
   "cell_type": "code",
   "execution_count": 28,
   "metadata": {},
   "outputs": [
    {
     "data": {
      "text/plain": [
       "KNeighborsClassifier(algorithm='auto', leaf_size=30, metric='minkowski',\n",
       "           metric_params=None, n_jobs=None, n_neighbors=5, p=2,\n",
       "           weights='uniform')"
      ]
     },
     "execution_count": 28,
     "metadata": {},
     "output_type": "execute_result"
    }
   ],
   "source": [
    "X=joinedDf[[\"GoldIncreaseorDecrease\",\"GoldIncreaseRate\"]]\n",
    "X=X.astype('int')\n",
    "y=joinedDf[\"CompanyIncreaseorDecrease\"]\n",
    "y=y.astype('int')\n",
    "X_train, X_test, y_train, y_test = train_test_split(X, y, test_size= 0.15, random_state = 41)\n",
    "X_train, X_test, y_train, y_test=X_train, X_test, y_train.values.reshape(-1, 1), y_test.values.reshape(-1, 1)\n",
    "from sklearn.neighbors import KNeighborsClassifier\n",
    "knn = KNeighborsClassifier(n_neighbors=5)\n",
    "knn.fit(X_train, y_train)"
   ]
  },
  {
   "cell_type": "code",
   "execution_count": 29,
   "metadata": {},
   "outputs": [
    {
     "name": "stdout",
     "output_type": "stream",
     "text": [
      "Accuracy of the model with k = 5 : 0.514792899408284\n"
     ]
    }
   ],
   "source": [
    "y_pred = knn.predict(X_test)\n",
    "# Checking the performance of the model with accuracy score;\n",
    "from sklearn import metrics\n",
    "\n",
    "print(\"Accuracy of the model with k = 5 :\",metrics.accuracy_score(y_test, y_pred))"
   ]
  },
  {
   "cell_type": "code",
   "execution_count": 30,
   "metadata": {},
   "outputs": [
    {
     "data": {
      "image/png": "[encoded data removed]",
      "text/plain": [
       "<Figure size 864x432 with 1 Axes>"
      ]
     },
     "metadata": {
      "needs_background": "light"
     },
     "output_type": "display_data"
    }
   ],
   "source": [
    "accuracy_list = []\n",
    "for k in range (1, 40):\n",
    "    knn = KNeighborsClassifier(n_neighbors = k)\n",
    "    knn.fit(X_train, y_train)\n",
    "    y_pred = knn.predict(X_test)\n",
    "    accuracy_list.append(metrics.accuracy_score(y_test, y_pred))\n",
    "\n",
    "plt.figure(figsize=(12, 6))  \n",
    "plt.plot(range(1, 40), accuracy_list, color='black', linestyle='dashed', marker='o',  \n",
    "         markerfacecolor='red', markersize=10)\n",
    "plt.title('Accuracy of the Model w/ k-Value')  \n",
    "plt.xlabel('k-Value')  \n",
    "plt.ylabel('Accuracy') \n",
    "plt.show()"
   ]
  },
  {
   "cell_type": "markdown",
   "metadata": {},
   "source": [
    "#### Ok the best k neighbour is 15"
   ]
  },
  {
   "cell_type": "code",
   "execution_count": 31,
   "metadata": {},
   "outputs": [
    {
     "name": "stdout",
     "output_type": "stream",
     "text": [
      "Accuracy of the model with k =  15 : 0.5295857988165681\n",
      "The mean squared error is:  0.47041420118343197\n"
     ]
    }
   ],
   "source": [
    "X_train, X_test, y_train, y_test = train_test_split(X, y, test_size= 0.15, random_state = 41)\n",
    "X_train, X_test, y_train, y_test=X_train, X_test, y_train.values.reshape(-1, 1), y_test.values.reshape(-1, 1)\n",
    "neighBourNumber=15\n",
    "knn = KNeighborsClassifier(n_neighbors=neighBourNumber)\n",
    "knn.fit(X_train, y_train)\n",
    "\n",
    "y_pred = knn.predict(X_test)\n",
    "print(\"Accuracy of the model with k = \",neighBourNumber,\":\",metrics.accuracy_score(y_test, y_pred))\n",
    "\n",
    "lr_mse = mean_squared_error(y_pred, y_test)\n",
    "print(\"The mean squared error is: \",lr_mse)"
   ]
  },
  {
   "cell_type": "markdown",
   "metadata": {},
   "source": [
    "## Random Forest"
   ]
  },
  {
   "cell_type": "code",
   "execution_count": 32,
   "metadata": {},
   "outputs": [
    {
     "name": "stdout",
     "output_type": "stream",
     "text": [
      "Accuracy of the random forest model:  0.4822485207100592\n",
      "The mean squared error is:  0.5177514792899408\n"
     ]
    }
   ],
   "source": [
    "X_train, X_test, y_train, y_test = train_test_split(X, y, test_size= 0.15, random_state = 42)\n",
    "from sklearn.ensemble import RandomForestClassifier\n",
    "rf  = RandomForestClassifier(random_state = 42)\n",
    "rf.fit(X_train, y_train)\n",
    "\n",
    "pred_rf = rf.predict(X_test)\n",
    "print(\"Accuracy of the random forest model: \",metrics.accuracy_score(y_test, pred_rf))\n",
    "\n",
    "lr_mse = mean_squared_error(pred_rf, y_test)\n",
    "print(\"The mean squared error is: \",lr_mse)"
   ]
  },
  {
   "cell_type": "markdown",
   "metadata": {},
   "source": [
    "## Finding the optimal test size for our Random Forest"
   ]
  },
  {
   "cell_type": "code",
   "execution_count": 33,
   "metadata": {},
   "outputs": [
    {
     "data": {
      "text/plain": [
       "[<matplotlib.lines.Line2D at 0x1f0c0757940>]"
      ]
     },
     "execution_count": 33,
     "metadata": {},
     "output_type": "execute_result"
    },
    {
     "data": {
      "image/png": "[encoded data removed]",
      "text/plain": [
       "<Figure size 432x288 with 1 Axes>"
      ]
     },
     "metadata": {
      "needs_background": "light"
     },
     "output_type": "display_data"
    }
   ],
   "source": [
    "i=0.05\n",
    "accuracy_list=[]\n",
    "testsize_list=[]\n",
    "while(i<0.9):\n",
    "    X_train, X_test, y_train, y_test = train_test_split(X, y, test_size= i, random_state = 42)\n",
    "    rf  = RandomForestClassifier(random_state = 42)\n",
    "    rf.fit(X_train, y_train)\n",
    "\n",
    "    pred_rf = rf.predict(X_test)\n",
    "    accuracy_list.append(metrics.accuracy_score(y_test, pred_rf))\n",
    "    testsize_list.append(i)\n",
    "    i+=0.05\n",
    "plt.plot(testsize_list, accuracy_list, color='black', linestyle='dashed', marker='o',  \n",
    "         markerfacecolor='red', markersize=10)"
   ]
  },
  {
   "cell_type": "markdown",
   "metadata": {},
   "source": [
    "### As can be seen above, the random forest algorithm gives best accuracy with our dataset when the test_size is equal to 0.4\n",
    "\n",
    "### Also it should be noted that there is not much difference between accuracy when the test size is in 0.2<testSize<1 interval"
   ]
  },
  {
   "cell_type": "code",
   "execution_count": 34,
   "metadata": {},
   "outputs": [
    {
     "name": "stdout",
     "output_type": "stream",
     "text": [
      "Accuracy of the random forest model:  0.5022222222222222\n",
      "The mean squared error is:  0.49777777777777776\n"
     ]
    }
   ],
   "source": [
    "# With test_size=0.4\n",
    "X_train, X_test, y_train, y_test = train_test_split(X, y, test_size= 0.4, random_state = 42)\n",
    "rf  = RandomForestClassifier(random_state = 42)\n",
    "rf.fit(X_train, y_train)\n",
    "\n",
    "pred_rf = rf.predict(X_test)\n",
    "print(\"Accuracy of the random forest model: \",metrics.accuracy_score(y_test, pred_rf))\n",
    "\n",
    "lr_mse = mean_squared_error(pred_rf, y_test)\n",
    "print(\"The mean squared error is: \",lr_mse)"
   ]
  },
  {
   "cell_type": "code",
   "execution_count": null,
   "metadata": {},
   "outputs": [],
   "source": []
  },
  {
   "cell_type": "code",
   "execution_count": null,
   "metadata": {},
   "outputs": [],
   "source": []
  },
  {
   "cell_type": "markdown",
   "metadata": {},
   "source": [
    "## Below here is the low accuracy model which builds upon the factor of the increase rate"
   ]
  },
  {
   "cell_type": "code",
   "execution_count": 35,
   "metadata": {},
   "outputs": [],
   "source": [
    "def getIncreaseDecrease(df):\n",
    "    GoldIncrease=df[3]\n",
    "    CompanyIncrease=df[4]\n",
    "    x=0\n",
    "    y=0\n",
    "    if(0<GoldIncrease<0.25):\n",
    "        df[5]=0\n",
    "    #else:\n",
    "        #df[5]=1\n",
    "    \n",
    "    elif(0.25<GoldIncrease<0.5):\n",
    "        df[5]=1\n",
    "    elif(0.5<GoldIncrease<1):\n",
    "        df[5]=2\n",
    "    elif(GoldIncrease>1):\n",
    "        df[5]=3\n",
    "    elif(-0.25<GoldIncrease<0):\n",
    "        df[5]=4\n",
    "    elif(-0.5<GoldIncrease<-0.25):\n",
    "        df[5]=5\n",
    "    elif(-1<GoldIncrease<-0.5):\n",
    "        df[5]=6\n",
    "    elif(GoldIncrease<-1):\n",
    "        df[5]=7\n",
    "    \n",
    "    if(0<CompanyIncrease<1):\n",
    "        df[6]=0\n",
    "    #else:\n",
    "        #df[6]=1\n",
    "    elif(1<CompanyIncrease<2):\n",
    "        df[6]=1\n",
    "    elif(2<CompanyIncrease<4):\n",
    "        df[6]=2\n",
    "    elif(4<CompanyIncrease<6):\n",
    "        df[6]=3\n",
    "    elif(6<CompanyIncrease):\n",
    "        df[6]=4\n",
    "    elif(-1<CompanyIncrease<0):\n",
    "        df[6]=5\n",
    "    elif(-2<CompanyIncrease<-1):\n",
    "        df[6]=6\n",
    "    elif(-4<CompanyIncrease<-2):\n",
    "        df[6]=7\n",
    "    elif(-6<CompanyIncrease<-4):\n",
    "        df[6]=8\n",
    "    elif(CompanyIncrease<-6):\n",
    "        df[6]=9\n",
    "    \n",
    "    return df\n",
    "  "
   ]
  },
  {
   "cell_type": "code",
   "execution_count": 36,
   "metadata": {},
   "outputs": [],
   "source": [
    "unsuccesfullModel=joinedDf=joinedDf.apply(getIncreaseDecrease,axis=1,result_type=\"broadcast\")"
   ]
  },
  {
   "cell_type": "code",
   "execution_count": 37,
   "metadata": {},
   "outputs": [],
   "source": [
    "X=unsuccesfullModel[[\"GoldIncreaseorDecrease\",\"GoldIncreaseRate\"]]\n",
    "X=X.astype('int')\n",
    "y=unsuccesfullModel[\"CompanyIncreaseorDecrease\"]\n",
    "y=y.astype('int')"
   ]
  },
  {
   "cell_type": "markdown",
   "metadata": {},
   "source": [
    "## K Neighbours"
   ]
  },
  {
   "cell_type": "code",
   "execution_count": 38,
   "metadata": {},
   "outputs": [
    {
     "data": {
      "image/png": "[encoded data removed]",
      "text/plain": [
       "<Figure size 864x432 with 1 Axes>"
      ]
     },
     "metadata": {
      "needs_background": "light"
     },
     "output_type": "display_data"
    }
   ],
   "source": [
    "X_train, X_test, y_train, y_test = train_test_split(X, y, test_size= 0.15, random_state = 41)\n",
    "X_train, X_test, y_train, y_test=X_train, X_test, y_train.values.reshape(-1, 1), y_test.values.reshape(-1, 1)\n",
    "\n",
    "accuracy_list = []\n",
    "for k in range (1, 40):\n",
    "    knn = KNeighborsClassifier(n_neighbors = k)\n",
    "    knn.fit(X_train, y_train)\n",
    "    y_pred = knn.predict(X_test)\n",
    "    accuracy_list.append(metrics.accuracy_score(y_test, y_pred))\n",
    "\n",
    "plt.figure(figsize=(12, 6))  \n",
    "plt.plot(range(1, 40), accuracy_list, color='black', linestyle='dashed', marker='o',  \n",
    "         markerfacecolor='red', markersize=10)\n",
    "plt.title('Accuracy of the Model w/ k-Value')  \n",
    "plt.xlabel('k-Value')  \n",
    "plt.ylabel('Accuracy') \n",
    "plt.show()"
   ]
  },
  {
   "cell_type": "markdown",
   "metadata": {},
   "source": [
    "### Best k is 14"
   ]
  },
  {
   "cell_type": "code",
   "execution_count": 39,
   "metadata": {},
   "outputs": [
    {
     "name": "stdout",
     "output_type": "stream",
     "text": [
      "Accuracy of the model with k =  14 : 0.2781065088757396\n",
      "The mean squared error is:  11.940828402366863\n"
     ]
    }
   ],
   "source": [
    "neighBourNumber=14\n",
    "knn = KNeighborsClassifier(n_neighbors=neighBourNumber)\n",
    "knn.fit(X_train, y_train)\n",
    "\n",
    "y_pred = knn.predict(X_test)\n",
    "print(\"Accuracy of the model with k = \",neighBourNumber,\":\",metrics.accuracy_score(y_test, y_pred))\n",
    "\n",
    "lr_mse = mean_squared_error(y_pred, y_test)\n",
    "print(\"The mean squared error is: \",lr_mse)"
   ]
  },
  {
   "cell_type": "markdown",
   "metadata": {},
   "source": [
    "## Random Forest"
   ]
  },
  {
   "cell_type": "code",
   "execution_count": 40,
   "metadata": {},
   "outputs": [
    {
     "name": "stdout",
     "output_type": "stream",
     "text": [
      "Accuracy of the random forest model:  0.257396449704142\n",
      "The mean squared error is:  14.562130177514794\n"
     ]
    }
   ],
   "source": [
    "X_train, X_test, y_train, y_test = train_test_split(X, y, test_size= 0.15, random_state = 42)\n",
    "rf  = RandomForestClassifier(random_state = 42)\n",
    "rf.fit(X_train, y_train)\n",
    "\n",
    "pred_rf = rf.predict(X_test)\n",
    "print(\"Accuracy of the random forest model: \",metrics.accuracy_score(y_test, pred_rf))\n",
    "\n",
    "lr_mse = mean_squared_error(pred_rf, y_test)\n",
    "print(\"The mean squared error is: \",lr_mse)"
   ]
  }
 ],
 "metadata": {
  "kernelspec": {
   "display_name": "Python 3",
   "language": "python",
   "name": "python3"
  },
  "language_info": {
   "codemirror_mode": {
    "name": "ipython",
    "version": 3
   },
   "file_extension": ".py",
   "mimetype": "text/x-python",
   "name": "python",
   "nbconvert_exporter": "python",
   "pygments_lexer": "ipython3",
   "version": "3.7.1"
  }
 },
 "nbformat": 4,
 "nbformat_minor": 2
}
